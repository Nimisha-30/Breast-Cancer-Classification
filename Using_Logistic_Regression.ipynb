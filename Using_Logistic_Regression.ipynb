{
  "nbformat": 4,
  "nbformat_minor": 0,
  "metadata": {
    "colab": {
      "provenance": [],
      "authorship_tag": "ABX9TyOcXs6QU/KsmN32EOX8RK6e",
      "include_colab_link": true
    },
    "kernelspec": {
      "name": "python3",
      "display_name": "Python 3"
    },
    "language_info": {
      "name": "python"
    }
  },
  "cells": [
    {
      "cell_type": "markdown",
      "metadata": {
        "id": "view-in-github",
        "colab_type": "text"
      },
      "source": [
        "<a href=\"https://colab.research.google.com/github/Nimisha-30/Breast-Cancer-Classification/blob/main/Using_Logistic_Regression.ipynb\" target=\"_parent\"><img src=\"https://colab.research.google.com/assets/colab-badge.svg\" alt=\"Open In Colab\"/></a>"
      ]
    },
    {
      "cell_type": "markdown",
      "source": [
        "#Importing dependencies"
      ],
      "metadata": {
        "id": "xNd98vWvHl0X"
      }
    },
    {
      "cell_type": "code",
      "execution_count": null,
      "metadata": {
        "id": "wyKD-oz0GkNX"
      },
      "outputs": [],
      "source": [
        "import numpy as np\n",
        "import pandas as pd\n",
        "import sklearn.datasets\n",
        "from sklearn.model_selection import train_test_split\n",
        "from sklearn.linear_model import LogisticRegression\n",
        "from sklearn.metrics import accuracy_score"
      ]
    },
    {
      "cell_type": "markdown",
      "source": [
        "#Data collection and preprocessing"
      ],
      "metadata": {
        "id": "o0dMOG1jISt3"
      }
    },
    {
      "cell_type": "code",
      "source": [
        "bc_ds=sklearn.datasets.load_breast_cancer()\n",
        "bc_ds"
      ],
      "metadata": {
        "id": "eCccZAmeISU2"
      },
      "execution_count": null,
      "outputs": []
    },
    {
      "cell_type": "code",
      "source": [
        "df=pd.DataFrame(bc_ds.data, columns=bc_ds.features)\n",
        "df.head()"
      ],
      "metadata": {
        "id": "dHjyUYaEISRx"
      },
      "execution_count": null,
      "outputs": []
    },
    {
      "cell_type": "code",
      "source": [
        "df['class']=bc_ds.target\n",
        "df.tail()"
      ],
      "metadata": {
        "id": "yU4Ty53ZISOl"
      },
      "execution_count": null,
      "outputs": []
    },
    {
      "cell_type": "code",
      "source": [
        "df.shape"
      ],
      "metadata": {
        "id": "YwXsVfyQISLZ"
      },
      "execution_count": null,
      "outputs": []
    },
    {
      "cell_type": "code",
      "source": [
        "df.info()"
      ],
      "metadata": {
        "id": "LDp8F8thI_V2"
      },
      "execution_count": null,
      "outputs": []
    },
    {
      "cell_type": "code",
      "source": [
        "df.isnull().sum()"
      ],
      "metadata": {
        "id": "qTm2NsoMI_Sf"
      },
      "execution_count": null,
      "outputs": []
    },
    {
      "cell_type": "code",
      "source": [
        "df.describe()"
      ],
      "metadata": {
        "id": "FJpg3gY8I_Pj"
      },
      "execution_count": null,
      "outputs": []
    },
    {
      "cell_type": "code",
      "source": [
        "df['class'].value_counts()"
      ],
      "metadata": {
        "id": "I0Wi7wu-I_Mc"
      },
      "execution_count": null,
      "outputs": []
    },
    {
      "cell_type": "code",
      "source": [
        "df.groupby('class').mean()"
      ],
      "metadata": {
        "id": "l8MONr3GJOlY"
      },
      "execution_count": null,
      "outputs": []
    },
    {
      "cell_type": "code",
      "source": [
        "x=df.drop(columns='class', axis=1)\n",
        "y=df['label']\n",
        "print(x, y)"
      ],
      "metadata": {
        "id": "Lds8eEG4JOZX"
      },
      "execution_count": null,
      "outputs": []
    },
    {
      "cell_type": "code",
      "source": [
        "x_train, x_test, y_train, y_test=train_test_split(x, y, test_size=0.2, random_state=2)"
      ],
      "metadata": {
        "id": "vAvAjAuDJOVn"
      },
      "execution_count": null,
      "outputs": []
    },
    {
      "cell_type": "code",
      "source": [
        "print(x.shape, x_train.shape, x_test.shape)"
      ],
      "metadata": {
        "id": "8RzTXFrFJOSx"
      },
      "execution_count": null,
      "outputs": []
    },
    {
      "cell_type": "markdown",
      "source": [
        "#Model training and testing using Logistic Regression"
      ],
      "metadata": {
        "id": "uXAoWRnpJt_R"
      }
    },
    {
      "cell_type": "code",
      "source": [
        "model=LogisticRegression()"
      ],
      "metadata": {
        "id": "Fl_9oQEJJy2C"
      },
      "execution_count": null,
      "outputs": []
    },
    {
      "cell_type": "code",
      "source": [
        "# training model\n",
        "model.fit(x_train, y_train)"
      ],
      "metadata": {
        "id": "rzALV0FLJzi9"
      },
      "execution_count": null,
      "outputs": []
    },
    {
      "cell_type": "markdown",
      "source": [
        "#Model evaluation"
      ],
      "metadata": {
        "id": "flCfXcdOJ9tQ"
      }
    },
    {
      "cell_type": "markdown",
      "source": [
        "Accuracy Score"
      ],
      "metadata": {
        "id": "Nph-kFW-KBpu"
      }
    },
    {
      "cell_type": "code",
      "source": [
        "# on training data\n",
        "x_train_pred=model.predict(x_train)\n",
        "training_data_accuracy=accuracy_Score(y_train, x_train_pred)\n",
        "training_data_accuracy"
      ],
      "metadata": {
        "id": "WB0Zv64JJzZN"
      },
      "execution_count": null,
      "outputs": []
    },
    {
      "cell_type": "code",
      "source": [
        "# on test data\n",
        "x_text_pred=model.predict(x_test)\n",
        "test_data_accuracy=accuracy_score(y_test, x_test_pred)\n",
        "test_Data_accuracy"
      ],
      "metadata": {
        "id": "2t2LDZswJzV3"
      },
      "execution_count": null,
      "outputs": []
    },
    {
      "cell_type": "markdown",
      "source": [
        "#Building a Predictive System"
      ],
      "metadata": {
        "id": "vm6VdjJsKiJr"
      }
    },
    {
      "cell_type": "code",
      "source": [
        "inputData=()\n",
        "# change input data into numpy array\n",
        "inData_asnpArray=np.asarray(inputData)\n",
        "# reshape numpy array\n",
        "inData_reshaped=inData_asnpArray.reshape(1, -1)\n",
        "prediction=model.predict(inData_reshaped)\n",
        "preint(prediction)\n",
        "if (prediction[0]==0):\n",
        "    print(\"Malignant\")\n",
        "else:\n",
        "    print(\"Benign\")"
      ],
      "metadata": {
        "id": "k5ZnDNPpJzSJ"
      },
      "execution_count": null,
      "outputs": []
    }
  ]
}