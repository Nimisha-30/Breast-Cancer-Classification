{
  "nbformat": 4,
  "nbformat_minor": 0,
  "metadata": {
    "colab": {
      "provenance": [],
      "authorship_tag": "ABX9TyPDd4c8p1tfZcguqqs4A4rw",
      "include_colab_link": true
    },
    "kernelspec": {
      "name": "python3",
      "display_name": "Python 3"
    },
    "language_info": {
      "name": "python"
    }
  },
  "cells": [
    {
      "cell_type": "markdown",
      "metadata": {
        "id": "view-in-github",
        "colab_type": "text"
      },
      "source": [
        "<a href=\"https://colab.research.google.com/github/Nimisha-30/Breast-Cancer-Classification/blob/main/Exploratory_Data_Analysis.ipynb\" target=\"_parent\"><img src=\"https://colab.research.google.com/assets/colab-badge.svg\" alt=\"Open In Colab\"/></a>"
      ]
    },
    {
      "cell_type": "markdown",
      "source": [
        "**Exploratory Data Analysis** is analysing data and summarizing key insights and characteristics of data.\n",
        "\n",
        "**EDA checklist:**\n",
        "\n",
        "\n",
        "1.   Understand dataset and its shape.\n",
        "2.   Check data type of every column.\n",
        "3.   Identify/separate Categorical and Numerical columns.\n",
        "4.   Check missing values. Discard/fill them.\n",
        "5.   Deescriptive summary of dataset.\n",
        "6.   Groupby for classification problems.\n",
        "\n",
        "\n"
      ],
      "metadata": {
        "id": "u_BsJ-L3L1pU"
      }
    },
    {
      "cell_type": "markdown",
      "source": [
        "# Importing Dependencies"
      ],
      "metadata": {
        "id": "IKUA4TDPM2Sj"
      }
    },
    {
      "cell_type": "code",
      "execution_count": null,
      "metadata": {
        "id": "Kt8dZbdXLcsn"
      },
      "outputs": [],
      "source": [
        "import numpy as np\n",
        "import pandas as pd\n",
        "from sklearn.preprocessing import LabelEncoder"
      ]
    },
    {
      "cell_type": "markdown",
      "source": [
        "#Data Collection"
      ],
      "metadata": {
        "id": "PNIOg-wkL-XR"
      }
    },
    {
      "cell_type": "code",
      "source": [
        "# load data\n",
        "bc_ds=pd.read_csv('/content/data.csv')"
      ],
      "metadata": {
        "id": "VrokOrumLwwh"
      },
      "execution_count": null,
      "outputs": []
    },
    {
      "cell_type": "markdown",
      "source": [
        "#Exploratory Data Analysis"
      ],
      "metadata": {
        "id": "mQT6BrYMMH3T"
      }
    },
    {
      "cell_type": "code",
      "source": [
        "# print first five rows of dataset\n",
        "bc_ds.head()"
      ],
      "metadata": {
        "id": "lll8KLVaML3w"
      },
      "execution_count": null,
      "outputs": []
    },
    {
      "cell_type": "code",
      "source": [
        "# remove unnamed column\n",
        "bc_ds.drop(columns='Unnamed: 32', axis=1, inplace=True)"
      ],
      "metadata": {
        "id": "vopfCV5TMvQD"
      },
      "execution_count": null,
      "outputs": []
    },
    {
      "cell_type": "code",
      "source": [
        "bc_ds.head()"
      ],
      "metadata": {
        "id": "qCnKQfmuM8QC"
      },
      "execution_count": null,
      "outputs": []
    },
    {
      "cell_type": "code",
      "source": [
        "bc_ds.shape"
      ],
      "metadata": {
        "id": "7SW6qTC5NF6Y"
      },
      "execution_count": null,
      "outputs": []
    },
    {
      "cell_type": "code",
      "source": [
        "# checking data types\n",
        "bc_ds.info()"
      ],
      "metadata": {
        "id": "4I_iH-tNNI0l"
      },
      "execution_count": null,
      "outputs": []
    },
    {
      "cell_type": "code",
      "source": [
        "# remove id column\n",
        "bc_ds.drop(columns='id', axis=1, inplace=True)"
      ],
      "metadata": {
        "id": "GHYuF6lyNimi"
      },
      "execution_count": null,
      "outputs": []
    },
    {
      "cell_type": "markdown",
      "source": [
        "'Diagnosis' column in Categorical type whereas remaining columns are Numerical type."
      ],
      "metadata": {
        "id": "laTixYhcNz-u"
      }
    },
    {
      "cell_type": "code",
      "source": [
        "# checking for missing values\n",
        "bc_ds.isnull().sum()"
      ],
      "metadata": {
        "id": "_9jhbco9Nii_"
      },
      "execution_count": null,
      "outputs": []
    },
    {
      "cell_type": "markdown",
      "source": [
        "No missing values"
      ],
      "metadata": {
        "id": "wyu26_rtOKfd"
      }
    },
    {
      "cell_type": "markdown",
      "source": [
        "# Descriptive Statistics"
      ],
      "metadata": {
        "id": "tc3kRay2ONMN"
      }
    },
    {
      "cell_type": "code",
      "source": [
        "bc_ds.describe()"
      ],
      "metadata": {
        "id": "9GUProjANigM"
      },
      "execution_count": null,
      "outputs": []
    },
    {
      "cell_type": "code",
      "source": [
        "# checking distribution of target variable\n",
        "bc_Ds['diagnosis'].value_counts()"
      ],
      "metadata": {
        "id": "WiKsYDyvOX5W"
      },
      "execution_count": null,
      "outputs": []
    },
    {
      "cell_type": "code",
      "source": [
        "# encoding target column\n",
        "label_encode=LabelEncoder()\n",
        "labels=label_encode.fit_transform(bc_ds['diagnosis'])\n",
        "bc_ds['target']=labels\n",
        "bc_Ds.drop(column='diagnosis', axis=1, inplace=True)"
      ],
      "metadata": {
        "id": "jB80U95TOX13"
      },
      "execution_count": null,
      "outputs": []
    },
    {
      "cell_type": "code",
      "source": [
        "# diagnosis column removed\n",
        "bc_ds.head()"
      ],
      "metadata": {
        "id": "xp_aUYCrOXz2"
      },
      "execution_count": null,
      "outputs": []
    },
    {
      "cell_type": "code",
      "source": [
        "bc_ds['target'].value_counts()"
      ],
      "metadata": {
        "id": "nIcR9CMuPk5L"
      },
      "execution_count": null,
      "outputs": []
    },
    {
      "cell_type": "markdown",
      "source": [
        "Grouping data based on target"
      ],
      "metadata": {
        "id": "YsmtEtEUWmRC"
      }
    },
    {
      "cell_type": "code",
      "source": [
        "bc_ds.groupby('target').mean()"
      ],
      "metadata": {
        "id": "MbtUMRofWpOu"
      },
      "execution_count": null,
      "outputs": []
    },
    {
      "cell_type": "markdown",
      "source": [
        "For most of the features, the mean values are higher for malignant cases and lower for benign cases."
      ],
      "metadata": {
        "id": "LjXp0YxRZwJQ"
      }
    },
    {
      "cell_type": "markdown",
      "source": [
        "Summary:\n",
        "1. No missing values.\n",
        "2. All are continuous numerical values except for target column.\n",
        "3. Mean is slightly more than median for most of the features. So it is right skewed.\n",
        "4. Slight imbalance is prsent in the dataset.\n",
        "5. Mean of the most features are clearly larger for malignant cases compared to the benign cases."
      ],
      "metadata": {
        "id": "jORiqZWCfwU6"
      }
    }
  ]
}